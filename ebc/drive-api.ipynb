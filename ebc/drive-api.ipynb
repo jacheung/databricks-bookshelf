{
 "cells": [
  {
   "cell_type": "code",
   "execution_count": 48,
   "metadata": {},
   "outputs": [],
   "source": [
    "#encode base64 text file\n",
    "import base64\n",
    "import json\n",
    "\n",
    "# open up the credentials json and encode it using base64\n",
    "credentials = \"/Users/jon.cheung/GitHub/credentials/gcp-svc-credentials.json\"\n",
    "with open(credentials) as f:\n",
    "    dict = json.load(f)\n",
    "    string = json.dumps(dict)\n",
    "credentials_b64_bytes = base64.b64encode(string.encode('utf-8'))\n",
    "credentials_b64_string = credentials_b64_bytes.decode(\"utf-8\")\n",
    "\n",
    "# when using databricks secrets CLI, the payload must contain the following keys: 'scope', 'key', 'string_value'\n",
    "databricks_secrets_json = {'scope': 'ebc-application',\n",
    "                           'key': 'gcp-service-account-for-gdrive',\n",
    "                           'string_value': credentials_b64_string}\n",
    "j = json.dumps(databricks_secrets_json)\n",
    "with open('databricks-secrets-gcp-svc-payload.json', 'w') as f:\n",
    "    print(j, file=f)"
   ]
  },
  {
   "cell_type": "code",
   "execution_count": null,
   "metadata": {},
   "outputs": [],
   "source": [
    "\n",
    "b64_bytes = credentials_b64_string.encode('utf-8')\n",
    "credentials_bytes = base64.b64decode(b64_bytes)\n",
    "credentials_string = credentials_bytes.decode(\"utf-8\")\n",
    "credentials = json.loads(credentials_string)"
   ]
  },
  {
   "cell_type": "code",
   "execution_count": null,
   "metadata": {},
   "outputs": [],
   "source": [
    "\n",
    "from google.oauth2 import service_account\n",
    "from googleapiclient.discovery import build\n",
    "import os\n",
    "\n",
    "SCOPES = ['https://www.googleapis.com/auth/drive']\n",
    "SERVICE_ACCOUNT_FILE = \"/Users/jon.cheung/GitHub/credentials/gcp-svc-credentials.json\"\n",
    "\n",
    "credentials = service_account.Credentials.from_service_account_file(\n",
    "    SERVICE_ACCOUNT_FILE, scopes=SCOPES)\n",
    "\n",
    "service = build('drive', 'v3', credentials=credentials)\n",
    "\n",
    "# Example: List the first 10 files in Google Drive\n",
    "results = service.files().list(pageSize=10).execute()\n",
    "items = results.get('files', [])\n",
    "\n",
    "if not items:\n",
    "    print('No files found.')\n",
    "else:\n",
    "    print('Files:')\n",
    "    for item in items:\n",
    "        print(u'{0} ({1})'.format(item['name'], item['id']))"
   ]
  },
  {
   "cell_type": "code",
   "execution_count": null,
   "metadata": {},
   "outputs": [],
   "source": [
    "service.files().list(supportsAllDrives=True, includeItemsFromAllDrives=True).execute()\n"
   ]
  },
  {
   "cell_type": "code",
   "execution_count": null,
   "metadata": {},
   "outputs": [],
   "source": []
  }
 ],
 "metadata": {
  "kernelspec": {
   "display_name": "sandbox",
   "language": "python",
   "name": "python3"
  },
  "language_info": {
   "codemirror_mode": {
    "name": "ipython",
    "version": 3
   },
   "file_extension": ".py",
   "mimetype": "text/x-python",
   "name": "python",
   "nbconvert_exporter": "python",
   "pygments_lexer": "ipython3",
   "version": "3.9.6"
  }
 },
 "nbformat": 4,
 "nbformat_minor": 2
}
